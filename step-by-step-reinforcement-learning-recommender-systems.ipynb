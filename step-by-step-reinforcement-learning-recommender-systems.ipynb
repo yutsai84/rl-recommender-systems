{
 "cells": [
  {
   "cell_type": "code",
   "execution_count": null,
   "id": "3281d193",
   "metadata": {},
   "outputs": [],
   "source": [
    "import os\n",
    "import tensorflow as tf\n",
    "import sys\n",
    "sys.path.append(\"./src/\")\n",
    "sys.path.insert(0, \"./src/modeling\")\n",
    "sys.path.insert(0, \"./src/plotting\")\n",
    "sys.path.insert(0, \"./src/predicting\")\n",
    "\n",
    "import constant as const\n",
    "import numpy as np\n",
    "from pathlib import Path\n",
    "from plotting import plotting_utils\n",
    "from modeling import train_rl_model\n",
    "from predicting import predicting_utils\n",
    "\n",
    "# ref for path: \n",
    "# https://stackoverflow.com/questions/16771894/python-nameerror-global-name-file-is-not-defined\n",
    "base_path = os.path.dirname(os.path.realpath('__file__'))\n",
    "ROOT_PATH = base_path + \"/artifacts\""
   ]
  },
  {
   "cell_type": "markdown",
   "id": "40f1a15c",
   "metadata": {},
   "source": [
    "### Define RL modules [locally]\n",
    "\n",
    "Define a [MovieLens-specific bandits environment](https://www.tensorflow.org/agents/api_docs/python/tf_agents/bandits/environments/movielens_py_environment/MovieLensPyEnvironment), a [Linear UCB agent](https://www.tensorflow.org/agents/api_docs/python/tf_agents/bandits/agents/lin_ucb_agent) and the [regret metric](https://www.tensorflow.org/agents/api_docs/python/tf_agents/bandits/metrics/tf_metrics/RegretMetric)."
   ]
  },
  {
   "cell_type": "code",
   "execution_count": null,
   "id": "98a0f564",
   "metadata": {},
   "outputs": [],
   "source": [
    "tf.profiler.experimental.start(const.PROFILER_DIR)\n",
    "environment = train_rl_model.define_rl_envirioment()\n",
    "agent = train_rl_model.define_rl_agent(environment)\n",
    "metrics = train_rl_model.define_rl_metric(environment)"
   ]
  },
  {
   "cell_type": "markdown",
   "id": "317bd4ac",
   "metadata": {},
   "source": [
    "### Train the model [locally]\n",
    "\n",
    "Define the training logic (on-policy training). The following function is the same as [trainer.train](https://github.com/tensorflow/agents/blob/r0.8.0/tf_agents/bandits/agents/examples/v2/trainer.py#L104), but it keeps track of intermediate metric values and saves different artifacts to different locations. You can also directly invoke [trainer.train](https://github.com/tensorflow/agents/blob/r0.8.0/tf_agents/bandits/agents/examples/v2/trainer.py#L104) which also trains the policy.\n",
    "\n",
    "Train the RL policy and gather intermediate metric results. At the same time, use [TensorBoard Profiler](https://www.tensorflow.org/guide/profiler) to profile the training process and resources."
   ]
  },
  {
   "cell_type": "code",
   "execution_count": null,
   "id": "8f9e5b8e",
   "metadata": {},
   "outputs": [],
   "source": [
    "metric_results = train_rl_model.train(\n",
    "    root_dir=ROOT_PATH,\n",
    "    agent=agent,\n",
    "    environment=environment,\n",
    "    training_loops=const.TRAINING_LOOPS,\n",
    "    steps_per_loop=const.STEPS_PER_LOOP,\n",
    "    additional_metrics=metrics)\n",
    "\n",
    "tf.profiler.experimental.stop()"
   ]
  },
  {
   "cell_type": "markdown",
   "id": "0cc20e78",
   "metadata": {},
   "source": [
    "### Evaluate RL metrics [locally]\n",
    "\n",
    "You can visualize how the regret and average return metrics evolve over training steps."
   ]
  },
  {
   "cell_type": "code",
   "execution_count": null,
   "id": "740d0939",
   "metadata": {},
   "outputs": [],
   "source": [
    "plotting_utils.plot(metric_results, \"RegretMetric\")"
   ]
  },
  {
   "cell_type": "code",
   "execution_count": null,
   "id": "f4e5ace5",
   "metadata": {},
   "outputs": [],
   "source": [
    "plotting_utils.plot(metric_results, \"AverageReturnMetric\")"
   ]
  },
  {
   "cell_type": "markdown",
   "id": "89d567c2",
   "metadata": {},
   "source": [
    "### Create custom prediction container\n",
    "\n",
    "As with training, create a custom prediction container. This container handles the TF-Agents specific logic that is different from a regular TensorFlow Model. Specifically, it finds the predicted action using a trained policy.\n",
    "\n",
    "#### Serve predictions:\n",
    "- Use [`tensorflow.saved_model.load`](https://www.tensorflow.org/agents/api_docs/python/tf_agents/policies/PolicySaver#usage), instead of [`tf_agents.policies.policy_loader.load`](https://github.com/tensorflow/agents/blob/r0.8.0/tf_agents/policies/policy_loader.py#L26), to load the trained policy, because the latter produces an object of type [`SavedModelPyTFEagerPolicy`](https://github.com/tensorflow/agents/blob/402b8aa81ca1b578ec1f687725d4ccb4115386d2/tf_agents/policies/py_tf_eager_policy.py#L137) whose `action()` is not compatible for use here.\n",
    "- Note that prediction requests contain only observation data but not reward. This is because: The prediction task is a standalone request that doesn't require prior knowledge of the system state. Meanwhile, end users only know what they observe at the moment. Reward is a piece of information that comes after the action has been made, so the end users would not have knowledge of said reward. In handling prediction requests, you create a [`TimeStep`](https://www.tensorflow.org/agents/api_docs/python/tf_agents/trajectories/TimeStep) object (consisting of `observation`, `reward`, `discount`, `step_type`) using the [`restart()`](https://www.tensorflow.org/agents/api_docs/python/tf_agents/trajectories/restart) function which takes in an `observation`. This function creates the *first* TimeStep in a trajectory of steps, where reward is 0, discount is 1 and step_type is marked as the first timestep. In other words, each prediction request forms the first `TimeStep` in a brand new trajectory.\n",
    "- For the prediction response, avoid using NumPy-typed values; instead, convert them to native Python values using methods such as [`tolist()`](https://numpy.org/doc/stable/reference/generated/numpy.ndarray.tolist.html) as opposed to `list()`."
   ]
  },
  {
   "cell_type": "markdown",
   "id": "1445a626",
   "metadata": {},
   "source": [
    "### Predict on the Endpoint\n",
    "- Put prediction input(s) into a list named `instances`. The observation should of dimension (BATCH_SIZE, RANK_K). Read more about the MovieLens simulation environment observation [here](https://github.com/tensorflow/agents/blob/v0.8.0/tf_agents/bandits/environments/movielens_py_environment.py#L32-L138)."
   ]
  },
  {
   "cell_type": "code",
   "execution_count": null,
   "id": "265f7fc6",
   "metadata": {},
   "outputs": [],
   "source": [
    "recommended_movie_ids = predicting_utils.predict_observations_by_users(observation = {\"observation\": [list(np.ones(20)) for _ in range(8)]})"
   ]
  }
 ],
 "metadata": {
  "kernelspec": {
   "display_name": "Python 3 (ipykernel)",
   "language": "python",
   "name": "python3"
  },
  "language_info": {
   "codemirror_mode": {
    "name": "ipython",
    "version": 3
   },
   "file_extension": ".py",
   "mimetype": "text/x-python",
   "name": "python",
   "nbconvert_exporter": "python",
   "pygments_lexer": "ipython3",
   "version": "3.8.3"
  }
 },
 "nbformat": 4,
 "nbformat_minor": 5
}
